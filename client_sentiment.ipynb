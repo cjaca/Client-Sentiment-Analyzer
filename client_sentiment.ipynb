{
 "cells": [
  {
   "cell_type": "code",
   "execution_count": 1,
   "metadata": {
    "colab": {},
    "colab_type": "code",
    "id": "7qZmlF_BmEYD"
   },
   "outputs": [],
   "source": [
    "import numpy as np\n",
    "import pandas as pd\n",
    "import io\n",
    "import time"
   ]
  },
  {
   "cell_type": "code",
   "execution_count": 2,
   "metadata": {
    "colab": {},
    "colab_type": "code",
    "id": "FeLdtNSU1HbA"
   },
   "outputs": [],
   "source": [
    "df = pd.read_csv('almost_ready.csv', sep=';')"
   ]
  },
  {
   "cell_type": "code",
   "execution_count": 3,
   "metadata": {
    "colab": {},
    "colab_type": "code",
    "id": "Pcz7YdnB1-ZD"
   },
   "outputs": [],
   "source": [
    "df['review_body'] = df['review_body'].astype('str')"
   ]
  },
  {
   "cell_type": "code",
   "execution_count": 4,
   "metadata": {
    "colab": {},
    "colab_type": "code",
    "id": "AF1xkTR89rLx"
   },
   "outputs": [],
   "source": [
    "mask = (df['review_body'].str.len() <= 160) & (df['review_body'].str.len() > 3)"
   ]
  },
  {
   "cell_type": "code",
   "execution_count": 5,
   "metadata": {
    "colab": {},
    "colab_type": "code",
    "id": "SalZoKjG8E_6"
   },
   "outputs": [],
   "source": [
    "df2 = df.loc[mask]\n"
   ]
  },
  {
   "cell_type": "code",
   "execution_count": 6,
   "metadata": {
    "colab": {
     "base_uri": "https://localhost:8080/",
     "height": 68
    },
    "colab_type": "code",
    "id": "yJUj21hT97c2",
    "outputId": "baf0ece3-37b4-44a4-a58b-6d30ea99d14f"
   },
   "outputs": [
    {
     "data": {
      "text/plain": [
       "star_rating    90079\n",
       "review_body    90079\n",
       "dtype: int64"
      ]
     },
     "execution_count": 6,
     "metadata": {},
     "output_type": "execute_result"
    }
   ],
   "source": [
    "df2.count()"
   ]
  },
  {
   "cell_type": "code",
   "execution_count": 7,
   "metadata": {
    "colab": {},
    "colab_type": "code",
    "id": "NHVarep3_Jzt"
   },
   "outputs": [],
   "source": [
    "df['star_rating'] = df['star_rating'].astype(int)"
   ]
  },
  {
   "cell_type": "code",
   "execution_count": 9,
   "metadata": {},
   "outputs": [],
   "source": [
    "df2_1star = df2.query('star_rating==1')\n",
    "df2_2star = df2.query('star_rating==2')\n",
    "df2_3star = df2.query('star_rating==3')\n",
    "df2_4star = df2.query('star_rating==4')\n",
    "df2_5star = df2.query('star_rating==5')\n",
    "\n",
    "df2_1star = df2_1star.drop('star_rating', axis=1)\n",
    "df2_2star = df2_2star.drop('star_rating', axis=1)\n",
    "df2_3star = df2_3star.drop('star_rating', axis=1)\n",
    "df2_4star = df2_4star.drop('star_rating', axis=1)\n",
    "df2_5star = df2_5star.drop('star_rating', axis=1)\n",
    "\n",
    "df2_1star = df2_1star.sample(frac=1)\n",
    "df2_2star = df2_2star.sample(frac=1)\n",
    "df2_3star = df2_3star.sample(frac=1)\n",
    "df2_4star = df2_4star.sample(frac=1)\n",
    "df2_5star = df2_5star.sample(frac=1)\n",
    "\n",
    "df2_1star = df2_1star[:4000]\n",
    "df2_2star = df2_2star[:4000]\n",
    "df2_3star = df2_3star[:4000]\n",
    "df2_4star = df2_4star[:4000]\n",
    "df2_5star = df2_5star[:4000]"
   ]
  },
  {
   "cell_type": "code",
   "execution_count": 10,
   "metadata": {},
   "outputs": [],
   "source": [
    "fractions = np.array([0.6,0.2,0.2])\n",
    "\n",
    "train_1star, val_1star, test_1star = np.array_split(\n",
    "    df2_1star, (fractions[:-1].cumsum() * len(df2_1star)).astype(int))\n",
    "\n",
    "train_2star, val_2star, test_2star = np.array_split(\n",
    "    df2_2star, (fractions[:-1].cumsum() * len(df2_2star)).astype(int))\n",
    "\n",
    "train_3star, val_3star, test_3star = np.array_split(\n",
    "    df2_3star, (fractions[:-1].cumsum() * len(df2_3star)).astype(int))\n",
    "\n",
    "train_4star, val_4star, test_4star = np.array_split(\n",
    "    df2_4star, (fractions[:-1].cumsum() * len(df2_4star)).astype(int))\n",
    "\n",
    "train_5star, val_5star, test_5star = np.array_split(\n",
    "    df2_5star, (fractions[:-1].cumsum() * len(df2_5star)).astype(int))\n",
    "\n",
    "train_stars = [train_1star,train_2star,train_3star,train_4star,train_5star]\n",
    "val_stars = [val_1star,val_2star,val_3star,val_4star,val_5star]\n",
    "test_stars = [test_1star,test_2star,test_3star,test_4star,test_5star]"
   ]
  },
  {
   "cell_type": "code",
   "execution_count": 11,
   "metadata": {},
   "outputs": [
    {
     "name": "stdout",
     "output_type": "stream",
     "text": [
      "1\n",
      "2\n",
      "3\n",
      "4\n",
      "5\n",
      "1\n",
      "2\n",
      "3\n",
      "4\n",
      "5\n",
      "1\n",
      "2\n",
      "3\n",
      "4\n",
      "5\n"
     ]
    }
   ],
   "source": [
    "i=0\n",
    "j=1\n",
    "for train in train_stars:\n",
    "    for index, row in train.iterrows():\n",
    "        if i > len(train):\n",
    "           break\n",
    "        else:\n",
    "           f = open('dataset/train/'+str(j)+'/'+str(i)+'.txt', 'w')\n",
    "           f.write(row[0])\n",
    "           f.close()\n",
    "           i+=1\n",
    "    i=0\n",
    "    j+=1\n",
    "    \n",
    "i=0\n",
    "j=1\n",
    "for val in val_stars:\n",
    "    for index, row in val.iterrows():\n",
    "        if i > len(val):\n",
    "           break\n",
    "        else:\n",
    "           f = open('dataset/val/'+str(j)+'/'+str(i)+'.txt', 'w')\n",
    "           f.write(row[0])\n",
    "           f.close()\n",
    "           i+=1\n",
    "    i=0\n",
    "    j+=1\n",
    "    \n",
    "i=0\n",
    "j=1 \n",
    "\n",
    "for test in test_stars:\n",
    "    for index, row in test.iterrows():\n",
    "        if i > len(test):\n",
    "           break\n",
    "        else:\n",
    "           f = open('dataset/test/'+str(j)+'/'+str(i)+'.txt', 'w')\n",
    "           f.write(row[0])\n",
    "           f.close()\n",
    "           i+=1\n",
    "    i=0\n",
    "    j+=1"
   ]
  }
 ],
 "metadata": {
  "colab": {
   "name": "pandas sentiment",
   "provenance": []
  },
  "kernelspec": {
   "display_name": "Python 3",
   "language": "python",
   "name": "python3"
  },
  "language_info": {
   "codemirror_mode": {
    "name": "ipython",
    "version": 3
   },
   "file_extension": ".py",
   "mimetype": "text/x-python",
   "name": "python",
   "nbconvert_exporter": "python",
   "pygments_lexer": "ipython3",
   "version": "3.7.3"
  }
 },
 "nbformat": 4,
 "nbformat_minor": 1
}
